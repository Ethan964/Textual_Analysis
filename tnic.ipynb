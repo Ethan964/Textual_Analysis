{
 "cells": [
  {
   "cell_type": "markdown",
   "id": "749efccd",
   "metadata": {},
   "source": [
    "# Textual Analysis of M&As"
   ]
  },
  {
   "cell_type": "markdown",
   "id": "74a58088",
   "metadata": {},
   "source": [
    "## Load in TNIC Dataset "
   ]
  },
  {
   "cell_type": "code",
   "execution_count": 20,
   "id": "19cadd88",
   "metadata": {},
   "outputs": [
    {
     "name": "stdout",
     "output_type": "stream",
     "text": [
      "   year  gvkey1  gvkey2   score\n",
      "0  1988    1011    3226  0.1508\n",
      "1  1988    1011    6282  0.0851\n",
      "2  1988    1011    6734  0.0258\n",
      "3  1988    1011    7609  0.0097\n",
      "4  1988    1011    9526  0.0369\n"
     ]
    }
   ],
   "source": [
    "import pandas as pd\n",
    "import numpy as np\n",
    "\n",
    "tnic_2023 = pd.read_csv('tnic3_data.txt', sep='\\t')\n",
    "\n",
    "tnic_2023.to_feather('/Users/longer/Textual_Analysis/tnic3_data.txt.feather')\n",
    "\n",
    "# print preview of tnic df\n",
    "print(tnic_2023.head())\n",
    "\n",
    "# lets only use the acqs from 2023\n",
    "tnic_2023 = tnic_2023[tnic_2023['year'] == 2023].copy()"
   ]
  },
  {
   "cell_type": "markdown",
   "id": "9d2c6805",
   "metadata": {},
   "source": [
    "# Load in 'gvkey' Dataset"
   ]
  },
  {
   "cell_type": "code",
   "execution_count": 6,
   "id": "940361f5",
   "metadata": {},
   "outputs": [
    {
     "name": "stdout",
     "output_type": "stream",
     "text": [
      "  costat curcd datafmt indfmt consol  gvkey    datadate  \\\n",
      "0      A   USD     STD   INDL      C   1004  2023-05-31   \n",
      "1      A   USD     STD   INDL      C   1045  2023-12-31   \n",
      "2      A   USD     STD   INDL      C   1050  2023-12-31   \n",
      "3      A   USD     STD     FS      C   1062  2023-11-30   \n",
      "4      A   USD     STD   INDL      C   1062  2023-11-30   \n",
      "\n",
      "                           conm   tic  fyrc   sic    ebitda       revt  \n",
      "0                      AAR CORP   AIR     5  5080   179.300   1990.600  \n",
      "1   AMERICAN AIRLINES GROUP INC   AAL    12  4512  6267.000  52788.000  \n",
      "2       CECO ENVIRONMENTAL CORP  CECO    12  3564    52.695    544.845  \n",
      "3  ASA GOLD AND PRECIOUS METALS   ASA    11  6799       NaN     13.018  \n",
      "4  ASA GOLD AND PRECIOUS METALS   ASA    11  6799    -1.079      2.394  \n"
     ]
    }
   ],
   "source": [
    "\n",
    "# import the Compustat Annual csv\n",
    "compustat_path = '/Users/longer/Textual_Analysis/gvkey.csv'\n",
    "gvkey = pd.read_csv(compustat_path)\n",
    "\n",
    "print(gvkey.head())"
   ]
  },
  {
   "cell_type": "markdown",
   "id": "c04c6883",
   "metadata": {},
   "source": [
    "## Explore Both Datasets"
   ]
  },
  {
   "cell_type": "code",
   "execution_count": 8,
   "id": "7a59b4bd",
   "metadata": {},
   "outputs": [
    {
     "name": "stdout",
     "output_type": "stream",
     "text": [
      "Index(['costat', 'curcd', 'datafmt', 'indfmt', 'consol', 'gvkey', 'datadate',\n",
      "       'conm', 'tic', 'fyrc', 'sic', 'ebitda', 'revt'],\n",
      "      dtype='object')\n"
     ]
    }
   ],
   "source": [
    "\n",
    "# show all columns in the gvkey df\n",
    "print(gvkey.columns)"
   ]
  },
  {
   "cell_type": "markdown",
   "id": "a364a2aa",
   "metadata": {},
   "source": [
    "+ gvkey - Global company key\n",
    "    + Used to link numbers from tnic df\n",
    "+ conm - Company name\n",
    "    + Can make TNIC df readable and relatable\n",
    "+ tic - Stock ticker\n",
    "    + Helpful for matching exact company to SEC filings\n",
    "+ sic - Industry code\n",
    "    + Useful for future analysis\n",
    "+ ebitda - Earnings before...\n",
    "+ revt - Revenue\n",
    "+ Rest of variables are fairly irrelevant"
   ]
  },
  {
   "cell_type": "code",
   "execution_count": 10,
   "id": "17c4f60c",
   "metadata": {},
   "outputs": [
    {
     "data": {
      "text/html": [
       "<div>\n",
       "<style scoped>\n",
       "    .dataframe tbody tr th:only-of-type {\n",
       "        vertical-align: middle;\n",
       "    }\n",
       "\n",
       "    .dataframe tbody tr th {\n",
       "        vertical-align: top;\n",
       "    }\n",
       "\n",
       "    .dataframe thead th {\n",
       "        text-align: right;\n",
       "    }\n",
       "</style>\n",
       "<table border=\"1\" class=\"dataframe\">\n",
       "  <thead>\n",
       "    <tr style=\"text-align: right;\">\n",
       "      <th></th>\n",
       "      <th>gvkey</th>\n",
       "      <th>conm</th>\n",
       "      <th>tic</th>\n",
       "      <th>sic</th>\n",
       "      <th>ebitda</th>\n",
       "      <th>revt</th>\n",
       "    </tr>\n",
       "  </thead>\n",
       "  <tbody>\n",
       "    <tr>\n",
       "      <th>0</th>\n",
       "      <td>1004</td>\n",
       "      <td>AAR CORP</td>\n",
       "      <td>AIR</td>\n",
       "      <td>5080</td>\n",
       "      <td>179.300</td>\n",
       "      <td>1990.600</td>\n",
       "    </tr>\n",
       "    <tr>\n",
       "      <th>1</th>\n",
       "      <td>1045</td>\n",
       "      <td>AMERICAN AIRLINES GROUP INC</td>\n",
       "      <td>AAL</td>\n",
       "      <td>4512</td>\n",
       "      <td>6267.000</td>\n",
       "      <td>52788.000</td>\n",
       "    </tr>\n",
       "    <tr>\n",
       "      <th>2</th>\n",
       "      <td>1050</td>\n",
       "      <td>CECO ENVIRONMENTAL CORP</td>\n",
       "      <td>CECO</td>\n",
       "      <td>3564</td>\n",
       "      <td>52.695</td>\n",
       "      <td>544.845</td>\n",
       "    </tr>\n",
       "    <tr>\n",
       "      <th>3</th>\n",
       "      <td>1062</td>\n",
       "      <td>ASA GOLD AND PRECIOUS METALS</td>\n",
       "      <td>ASA</td>\n",
       "      <td>6799</td>\n",
       "      <td>NaN</td>\n",
       "      <td>13.018</td>\n",
       "    </tr>\n",
       "    <tr>\n",
       "      <th>4</th>\n",
       "      <td>1062</td>\n",
       "      <td>ASA GOLD AND PRECIOUS METALS</td>\n",
       "      <td>ASA</td>\n",
       "      <td>6799</td>\n",
       "      <td>-1.079</td>\n",
       "      <td>2.394</td>\n",
       "    </tr>\n",
       "  </tbody>\n",
       "</table>\n",
       "</div>"
      ],
      "text/plain": [
       "   gvkey                          conm   tic   sic    ebitda       revt\n",
       "0   1004                      AAR CORP   AIR  5080   179.300   1990.600\n",
       "1   1045   AMERICAN AIRLINES GROUP INC   AAL  4512  6267.000  52788.000\n",
       "2   1050       CECO ENVIRONMENTAL CORP  CECO  3564    52.695    544.845\n",
       "3   1062  ASA GOLD AND PRECIOUS METALS   ASA  6799       NaN     13.018\n",
       "4   1062  ASA GOLD AND PRECIOUS METALS   ASA  6799    -1.079      2.394"
      ]
     },
     "execution_count": 10,
     "metadata": {},
     "output_type": "execute_result"
    }
   ],
   "source": [
    "\n",
    "# drop unnecessary columns\n",
    "gvkey = gvkey.drop(columns=['costat', 'curcd', 'datafmt', 'indfmt', 'consol', 'fyrc', 'datadate'])\n",
    "gvkey.head()"
   ]
  },
  {
   "cell_type": "markdown",
   "id": "93a000ac",
   "metadata": {},
   "source": [
    "# Verify dataframe integrity and create a few graphs for visualization"
   ]
  },
  {
   "cell_type": "code",
   "execution_count": 12,
   "id": "8bd99dd2",
   "metadata": {},
   "outputs": [
    {
     "name": "stdout",
     "output_type": "stream",
     "text": [
      "gvkey        0\n",
      "conm         0\n",
      "tic          6\n",
      "sic          0\n",
      "ebitda    5848\n",
      "revt      4655\n",
      "dtype: int64\n",
      "Length of dataset: 13400\n"
     ]
    }
   ],
   "source": [
    "\n",
    "# lets check for any empty entries\n",
    "print(gvkey.isna().sum())\n",
    "print(f'Length of dataset: {len(gvkey)}')"
   ]
  },
  {
   "cell_type": "markdown",
   "id": "97fa2ab7",
   "metadata": {},
   "source": [
    "+ Only 6 missing tickers\n",
    "    + Lets drop these 6 instances\n",
    "+ Around half of the transactions are missing ebidta and revt\n",
    "    + Can fill these holes with 0s and can reference SEC filings if needed"
   ]
  },
  {
   "cell_type": "code",
   "execution_count": 16,
   "id": "b7981978",
   "metadata": {},
   "outputs": [
    {
     "data": {
      "image/png": "[encoded data removed]",
      "text/plain": [
       "<Figure size 1000x800 with 1 Axes>"
      ]
     },
     "metadata": {},
     "output_type": "display_data"
    }
   ],
   "source": [
    "\n",
    "# drop the 6 rows that are missing ticker\n",
    "gvkey = gvkey[gvkey['tic'].notnull()]\n",
    "\n",
    "# lets create a graph or two visualizing the sizes of these companies involved in acquisitions\n",
    "import matplotlib.pyplot as plt\n",
    "plt.figure(figsize=(10,8))\n",
    "plt.hist(gvkey['revt'], bins=10, color='darkred')\n",
    "plt.title(\"Histogram of Acquired Company's Revenue\")\n",
    "plt.xlabel('Revenue (Millions of $)')\n",
    "plt.ylabel('Count')\n",
    "plt.tight_layout()\n",
    "plt.show()\n"
   ]
  },
  {
   "cell_type": "markdown",
   "id": "1588b8df",
   "metadata": {},
   "source": [
    "# Merge gvkey on TNIC Dataset"
   ]
  },
  {
   "cell_type": "code",
   "execution_count": 21,
   "id": "ffde13fb",
   "metadata": {},
   "outputs": [
    {
     "data": {
      "text/html": [
       "<div>\n",
       "<style scoped>\n",
       "    .dataframe tbody tr th:only-of-type {\n",
       "        vertical-align: middle;\n",
       "    }\n",
       "\n",
       "    .dataframe tbody tr th {\n",
       "        vertical-align: top;\n",
       "    }\n",
       "\n",
       "    .dataframe thead th {\n",
       "        text-align: right;\n",
       "    }\n",
       "</style>\n",
       "<table border=\"1\" class=\"dataframe\">\n",
       "  <thead>\n",
       "    <tr style=\"text-align: right;\">\n",
       "      <th></th>\n",
       "      <th>year</th>\n",
       "      <th>gvkey1</th>\n",
       "      <th>firm_name</th>\n",
       "      <th>firm_ticker</th>\n",
       "      <th>gvkey2</th>\n",
       "      <th>peer_name</th>\n",
       "      <th>peer_ticker</th>\n",
       "      <th>score</th>\n",
       "    </tr>\n",
       "  </thead>\n",
       "  <tbody>\n",
       "    <tr>\n",
       "      <th>0</th>\n",
       "      <td>2023</td>\n",
       "      <td>1004</td>\n",
       "      <td>AAR CORP</td>\n",
       "      <td>AIR</td>\n",
       "      <td>1823</td>\n",
       "      <td>ASTRONICS CORP</td>\n",
       "      <td>ATRO</td>\n",
       "      <td>0.0127</td>\n",
       "    </tr>\n",
       "    <tr>\n",
       "      <th>1</th>\n",
       "      <td>2023</td>\n",
       "      <td>1004</td>\n",
       "      <td>AAR CORP</td>\n",
       "      <td>AIR</td>\n",
       "      <td>4091</td>\n",
       "      <td>DUCOMMUN INC</td>\n",
       "      <td>DCO</td>\n",
       "      <td>0.0087</td>\n",
       "    </tr>\n",
       "    <tr>\n",
       "      <th>2</th>\n",
       "      <td>2023</td>\n",
       "      <td>1004</td>\n",
       "      <td>AAR CORP</td>\n",
       "      <td>AIR</td>\n",
       "      <td>5567</td>\n",
       "      <td>HEICO CORP</td>\n",
       "      <td>HEI</td>\n",
       "      <td>0.0063</td>\n",
       "    </tr>\n",
       "    <tr>\n",
       "      <th>3</th>\n",
       "      <td>2023</td>\n",
       "      <td>1004</td>\n",
       "      <td>AAR CORP</td>\n",
       "      <td>AIR</td>\n",
       "      <td>9698</td>\n",
       "      <td>SIFCO INDUSTRIES</td>\n",
       "      <td>SIF</td>\n",
       "      <td>0.0075</td>\n",
       "    </tr>\n",
       "    <tr>\n",
       "      <th>4</th>\n",
       "      <td>2023</td>\n",
       "      <td>1004</td>\n",
       "      <td>AAR CORP</td>\n",
       "      <td>AIR</td>\n",
       "      <td>10519</td>\n",
       "      <td>TEXTRON INC</td>\n",
       "      <td>TXT</td>\n",
       "      <td>0.0191</td>\n",
       "    </tr>\n",
       "  </tbody>\n",
       "</table>\n",
       "</div>"
      ],
      "text/plain": [
       "   year  gvkey1 firm_name firm_ticker  gvkey2         peer_name peer_ticker  \\\n",
       "0  2023    1004  AAR CORP         AIR    1823    ASTRONICS CORP        ATRO   \n",
       "1  2023    1004  AAR CORP         AIR    4091      DUCOMMUN INC         DCO   \n",
       "2  2023    1004  AAR CORP         AIR    5567        HEICO CORP         HEI   \n",
       "3  2023    1004  AAR CORP         AIR    9698  SIFCO INDUSTRIES         SIF   \n",
       "4  2023    1004  AAR CORP         AIR   10519       TEXTRON INC         TXT   \n",
       "\n",
       "    score  \n",
       "0  0.0127  \n",
       "1  0.0087  \n",
       "2  0.0063  \n",
       "3  0.0075  \n",
       "4  0.0191  "
      ]
     },
     "execution_count": 21,
     "metadata": {},
     "output_type": "execute_result"
    }
   ],
   "source": [
    "\n",
    "# to properly merge the two datasets, lets create a name/ticker map\n",
    "gvkey_name_map = gvkey[['gvkey', 'conm', 'tic']]\n",
    "\n",
    "gvkey_name_map = gvkey_name_map.rename(columns={\n",
    "    'gvkey': 'gvkey',\n",
    "    'conm' : 'company_name',\n",
    "    'tic' : 'ticker'\n",
    "})\n",
    "\n",
    "# merge tnic with firm side\n",
    "\n",
    "tnic_named = tnic_2023.merge(\n",
    "    gvkey_name_map,\n",
    "    how='left',\n",
    "    left_on='gvkey1',\n",
    "    right_on='gvkey' \n",
    ").rename(columns={\n",
    "    'company_name' : 'firm_name',\n",
    "    'ticker' : 'firm_ticker'\n",
    "}).drop('gvkey', axis=1)\n",
    "\n",
    "# merge tnic with peer side\n",
    "tnic_named = tnic_named.merge(\n",
    "    gvkey_name_map, \n",
    "    how='inner', \n",
    "    left_on='gvkey2',\n",
    "    right_on='gvkey'\n",
    ").rename(columns={\n",
    "    'company_name' : 'peer_name',\n",
    "    'ticker' : 'peer_ticker'\n",
    "}).drop('gvkey', axis=1)\n",
    "\n",
    "tnic_named = tnic_named[[\n",
    "    'year', 'gvkey1', 'firm_name', 'firm_ticker', 'gvkey2', 'peer_name', 'peer_ticker', 'score'\n",
    "]]\n",
    "\n",
    "tnic_named.head()"
   ]
  },
  {
   "cell_type": "code",
   "execution_count": 24,
   "id": "0a009ccb",
   "metadata": {},
   "outputs": [
    {
     "name": "stdout",
     "output_type": "stream",
     "text": [
      "Number of Acqs occured in 2023: 1047917\n"
     ]
    }
   ],
   "source": [
    "\n",
    "print(f'Number of Acqs occured in 2023: {len(tnic_named)}')"
   ]
  }
 ],
 "metadata": {
  "kernelspec": {
   "display_name": "myenv",
   "language": "python",
   "name": "python3"
  },
  "language_info": {
   "codemirror_mode": {
    "name": "ipython",
    "version": 3
   },
   "file_extension": ".py",
   "mimetype": "text/x-python",
   "name": "python",
   "nbconvert_exporter": "python",
   "pygments_lexer": "ipython3",
   "version": "3.9.18"
  }
 },
 "nbformat": 4,
 "nbformat_minor": 5
}
